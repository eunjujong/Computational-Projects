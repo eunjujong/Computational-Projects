{
 "cells": [
  {
   "cell_type": "markdown",
   "metadata": {},
   "source": [
    "# Topic 6\n",
    "### Eun Ju Jong \n",
    "### CIS 397\n",
    "### Dr. Hallenbeck"
   ]
  },
  {
   "cell_type": "code",
   "execution_count": 1,
   "metadata": {
    "collapsed": true
   },
   "outputs": [],
   "source": [
    "import numpy as np\n",
    "import matplotlib.pyplot as plt\n",
    "import scipy.optimize as opt"
   ]
  },
  {
   "cell_type": "code",
   "execution_count": 2,
   "metadata": {
    "collapsed": true
   },
   "outputs": [],
   "source": [
    "def movespines():\n",
    "    ax = plt.gca()\n",
    "    ax.spines['right'].set_color('none')\n",
    "    ax.spines['top'].set_color('none')\n",
    "    ax.spines['bottom'].set_position(('data',0))\n",
    "    ax.spines['left'].set_position(('data',0))"
   ]
  },
  {
   "cell_type": "markdown",
   "metadata": {},
   "source": [
    "## Exercise 1 - The Newton-Raphson Method"
   ]
  },
  {
   "cell_type": "markdown",
   "metadata": {},
   "source": [
    "#### Implementing the Newton-Raphson method on the function $f(x) = x^2 - 2x\\ $:"
   ]
  },
  {
   "cell_type": "code",
   "execution_count": 3,
   "metadata": {
    "collapsed": true
   },
   "outputs": [],
   "source": [
    "def func(x):\n",
    "    return x**2 - 2*x"
   ]
  },
  {
   "cell_type": "markdown",
   "metadata": {},
   "source": [
    "Using the Centered Difference Integral;"
   ]
  },
  {
   "cell_type": "code",
   "execution_count": 4,
   "metadata": {
    "collapsed": true
   },
   "outputs": [],
   "source": [
    "def cderiv(f, x, h = 1e-2):\n",
    "    return (f(x + h) - f(x - h)) / (2*h)"
   ]
  },
  {
   "cell_type": "code",
   "execution_count": 5,
   "metadata": {
    "collapsed": true
   },
   "outputs": [],
   "source": [
    "def Newton(f, x0, epsilon):\n",
    "    xi = x0\n",
    "    xi = xi - f(xi) / cderiv(f, xi, 1e-6)\n",
    "    \n",
    "    while abs(f(xi)) >= epsilon:\n",
    "        xi = xi - f(xi) / cderiv(f, xi, 1e-6)\n",
    "        \n",
    "    return xi"
   ]
  },
  {
   "cell_type": "code",
   "execution_count": 6,
   "metadata": {},
   "outputs": [
    {
     "name": "stdout",
     "output_type": "stream",
     "text": [
      "2.0000000000000013\n",
      "-1.3107200000790067e-11\n"
     ]
    }
   ],
   "source": [
    "print(Newton(func, 1.5, 1e-8))\n",
    "print(Newton(func, -0.5, 1e-8))"
   ]
  },
  {
   "cell_type": "markdown",
   "metadata": {},
   "source": [
    "$\\rightarrow$ Considering the fact that it has zeroes at x = 0 and x = 2, the roots found using the Newton Raphson method are quite close to the actual root values. "
   ]
  },
  {
   "cell_type": "markdown",
   "metadata": {},
   "source": [
    "#### Finding roots of $f(x) = x\\cos(x)\\ $:"
   ]
  },
  {
   "cell_type": "markdown",
   "metadata": {},
   "source": [
    "When $x\\cos(x) = 0$, \n",
    "<br>\n",
    "<br>\n",
    "$\\implies x = 0, \\displaystyle\\frac{\\pi}{2}, \\frac{3\\pi}{2}, \\frac{5\\pi}{2} \\frac{7\\pi}{2}\\dots$"
   ]
  },
  {
   "cell_type": "markdown",
   "metadata": {},
   "source": [
    "- $\\displaystyle\\frac{\\pi}{2} = 1.57079632679$\n",
    "<br>\n",
    "- $\\displaystyle\\frac{3\\pi}{2} = 4.71238898038$\n",
    "<br>\n",
    "- $\\displaystyle\\frac{5\\pi}{2} = 7.85398163397$\n",
    "<br>\n",
    "- $\\displaystyle\\frac{7\\pi}{2} = 10.9955742876$"
   ]
  },
  {
   "cell_type": "code",
   "execution_count": 7,
   "metadata": {
    "collapsed": true
   },
   "outputs": [],
   "source": [
    "def x_cos_x(x):\n",
    "    return x * np.cos(x)"
   ]
  },
  {
   "cell_type": "code",
   "execution_count": 8,
   "metadata": {},
   "outputs": [
    {
     "data": {
      "image/png": "[encoded data removed]",
      "text/plain": [
       "<matplotlib.figure.Figure at 0x289d34bf4a8>"
      ]
     },
     "metadata": {},
     "output_type": "display_data"
    }
   ],
   "source": [
    "x = np.linspace(-10, 10, 1000)\n",
    "\n",
    "plt.plot(x, x_cos_x(x), label = 'f(x)=xcos(x)')\n",
    "\n",
    "plt.legend(loc = 'upper right', bbox_to_anchor=(1.37, 1.03))\n",
    "movespines()\n",
    "\n",
    "plt.show()"
   ]
  },
  {
   "cell_type": "code",
   "execution_count": 9,
   "metadata": {},
   "outputs": [
    {
     "name": "stdout",
     "output_type": "stream",
     "text": [
      "1.04109994605e-09\n",
      "1.57079632679\n",
      "4.71238898074\n",
      "7.85398163397\n",
      "10.9955742876\n"
     ]
    }
   ],
   "source": [
    "print(Newton(x_cos_x, 0.1, 1e-8))\n",
    "print(Newton(x_cos_x, 1.2, 1e-8))\n",
    "print(Newton(x_cos_x, 4.5, 1e-8))\n",
    "print(Newton(x_cos_x, 7.3, 1e-8))\n",
    "print(Newton(x_cos_x, 10.5, 1e-8))"
   ]
  },
  {
   "cell_type": "markdown",
   "metadata": {},
   "source": [
    "$\\rightarrow$ as we can see from the results above, the roots of $xcos(x)$ calculated by the Newton Raphson method are approximately correct."
   ]
  },
  {
   "cell_type": "markdown",
   "metadata": {},
   "source": [
    "#### How far can you get from the root before Newton-Raphson fails (or finds another root)?"
   ]
  },
  {
   "cell_type": "markdown",
   "metadata": {},
   "source": [
    "For $x = 0\\ $: "
   ]
  },
  {
   "cell_type": "code",
   "execution_count": 10,
   "metadata": {},
   "outputs": [
    {
     "name": "stdout",
     "output_type": "stream",
     "text": [
      "1.04109994605e-09\n",
      "2.47588761429e-09\n",
      "-2.47588761429e-09\n"
     ]
    }
   ],
   "source": [
    "print(Newton(x_cos_x, 0.1, 1e-8))\n",
    "print(Newton(x_cos_x, 0.11, 1e-8))\n",
    "print(Newton(x_cos_x, -0.11, 1e-8))"
   ]
  },
  {
   "cell_type": "markdown",
   "metadata": {},
   "source": [
    "$\\rightarrow$The Newton-Raphson method fails to calculate the root as the given x0 is 10% off by more or less from the original root value. "
   ]
  },
  {
   "cell_type": "markdown",
   "metadata": {},
   "source": [
    "For $x = \\displaystyle\\frac{\\pi}{2}$ :"
   ]
  },
  {
   "cell_type": "code",
   "execution_count": 11,
   "metadata": {},
   "outputs": [
    {
     "name": "stdout",
     "output_type": "stream",
     "text": [
      "-1.5707963268\n",
      "1.57079632685\n",
      "1.57079632679\n",
      "1.5707963268\n",
      "1.06896346701e-11\n"
     ]
    }
   ],
   "source": [
    "print(Newton(x_cos_x, 0.8, 1e-8))\n",
    "print(Newton(x_cos_x, 0.989, 1e-8))\n",
    "print(Newton(x_cos_x, 1.2, 1e-8))\n",
    "print(Newton(x_cos_x, 2.97, 1e-8))\n",
    "print(Newton(x_cos_x, 2.98, 1e-8))"
   ]
  },
  {
   "cell_type": "markdown",
   "metadata": {},
   "source": [
    "$\\rightarrow$The Newton-Raphson method fails to calculate the root as the given x0 is 40% off by less or 90% off by more from the original root value. "
   ]
  },
  {
   "cell_type": "markdown",
   "metadata": {},
   "source": [
    "For $x = \\displaystyle\\frac{3\\pi}{2}$ :"
   ]
  },
  {
   "cell_type": "code",
   "execution_count": 12,
   "metadata": {},
   "outputs": [
    {
     "name": "stdout",
     "output_type": "stream",
     "text": [
      "-42.4115008235\n",
      "4.71238898038\n",
      "4.71238898074\n",
      "4.71238898051\n",
      "-1.57079632679\n"
     ]
    }
   ],
   "source": [
    "print(Newton(x_cos_x, 3.75, 1e-8))\n",
    "print(Newton(x_cos_x, 3.8, 1e-8))\n",
    "print(Newton(x_cos_x, 4.5, 1e-8))\n",
    "print(Newton(x_cos_x, 6, 1e-8))\n",
    "print(Newton(x_cos_x, 6.1, 1e-8))"
   ]
  },
  {
   "cell_type": "markdown",
   "metadata": {},
   "source": [
    "$\\rightarrow$The Newton-Raphson method fails to calculate the root as the given x0 is 20% off by less or 30% off by more from the original root value."
   ]
  },
  {
   "cell_type": "markdown",
   "metadata": {},
   "source": [
    "For $x = \\displaystyle\\frac{5\\pi}{2}$ :"
   ]
  },
  {
   "cell_type": "code",
   "execution_count": 13,
   "metadata": {},
   "outputs": [
    {
     "name": "stdout",
     "output_type": "stream",
     "text": [
      "2948.38470539\n",
      "7.85398163397\n",
      "7.85398163397\n",
      "7.85398163444\n",
      "1.57079632679\n"
     ]
    }
   ],
   "source": [
    "print(Newton(x_cos_x, 6.8, 1e-8))\n",
    "print(Newton(x_cos_x, 6.9, 1e-8))\n",
    "print(Newton(x_cos_x, 7.3, 1e-8))\n",
    "print(Newton(x_cos_x, 9.1, 1e-8))\n",
    "print(Newton(x_cos_x, 9.2, 1e-8))"
   ]
  },
  {
   "cell_type": "markdown",
   "metadata": {},
   "source": [
    "$\\rightarrow$The Newton-Raphson method fails to calculate the root as the given x0 is 13% off by less and 16% off by more from the original root value."
   ]
  },
  {
   "cell_type": "markdown",
   "metadata": {},
   "source": [
    "For $x = \\displaystyle\\frac{7\\pi}{2}$ :"
   ]
  },
  {
   "cell_type": "code",
   "execution_count": 14,
   "metadata": {},
   "outputs": [
    {
     "name": "stdout",
     "output_type": "stream",
     "text": [
      "23.5619449019\n",
      "10.9955742876\n",
      "10.9955742876\n",
      "10.9955742877\n",
      "14.1371669412\n"
     ]
    }
   ],
   "source": [
    "print(Newton(x_cos_x, 9.6, 1e-8))\n",
    "print(Newton(x_cos_x, 10, 1e-8))\n",
    "print(Newton(x_cos_x, 10.5, 1e-8))\n",
    "print(Newton(x_cos_x, 13, 1e-8))\n",
    "print(Newton(x_cos_x, 13.1, 1e-8))"
   ]
  },
  {
   "cell_type": "markdown",
   "metadata": {},
   "source": [
    "$\\rightarrow$The Newton-Raphson method fails to calculate the root as the given x0 is 13% off by less and 18% off by more from the original root value."
   ]
  },
  {
   "cell_type": "markdown",
   "metadata": {},
   "source": [
    "#### Finding roots of $f(x) = \\sqrt[3]{x}\\ $:"
   ]
  },
  {
   "cell_type": "code",
   "execution_count": 15,
   "metadata": {
    "collapsed": true
   },
   "outputs": [],
   "source": [
    "def func(x):\n",
    "    return np.cbrt(x)"
   ]
  },
  {
   "cell_type": "code",
   "execution_count": 16,
   "metadata": {},
   "outputs": [
    {
     "data": {
      "image/png": "[encoded data removed]",
      "text/plain": [
       "<matplotlib.figure.Figure at 0x127b69a4518>"
      ]
     },
     "metadata": {},
     "output_type": "display_data"
    }
   ],
   "source": [
    "x = np.linspace(-10, 10, 1000)\n",
    "\n",
    "plt.plot(x, func(x), label = '$f(x)=x^{1/3}$')\n",
    "\n",
    "plt.legend(loc = 'upper right', bbox_to_anchor=(1.37, 1.03))\n",
    "movespines()\n",
    "\n",
    "plt.show()"
   ]
  },
  {
   "cell_type": "code",
   "execution_count": 17,
   "metadata": {},
   "outputs": [
    {
     "name": "stdout",
     "output_type": "stream",
     "text": [
      "nan\n"
     ]
    },
    {
     "name": "stderr",
     "output_type": "stream",
     "text": [
      "C:\\ProgramData\\Anaconda3\\lib\\site-packages\\ipykernel_launcher.py:6: RuntimeWarning: divide by zero encountered in double_scalars\n",
      "  \n",
      "C:\\ProgramData\\Anaconda3\\lib\\site-packages\\ipykernel_launcher.py:2: RuntimeWarning: invalid value encountered in double_scalars\n",
      "  \n"
     ]
    }
   ],
   "source": [
    "print(Newton(func, 0.1, 1e-8))"
   ]
  },
  {
   "cell_type": "code",
   "execution_count": 18,
   "metadata": {
    "collapsed": true
   },
   "outputs": [],
   "source": [
    "def alt_Newton(f, x0, epsilon):\n",
    "    xi = x0\n",
    "    xi = xi - f(xi) / cderiv(f, xi, 1e-6)\n",
    "    \n",
    "    while abs(f(xi)) >= epsilon:\n",
    "        xi = xi - f(xi) / cderiv(f, xi, 1e-6)\n",
    "        print(xi)\n",
    "        \n",
    "    return xi"
   ]
  },
  {
   "cell_type": "code",
   "execution_count": 19,
   "metadata": {},
   "outputs": [
    {
     "name": "stdout",
     "output_type": "stream",
     "text": [
      "0.399999999954\n",
      "-0.800000000036\n",
      "1.60000000017\n",
      "-3.19999999936\n",
      "6.40000000723\n",
      "-12.8000000124\n",
      "25.5999999424\n",
      "-51.1999997246\n",
      "102.400000099\n",
      "-204.7999973\n",
      "409.600004907\n",
      "-819.200034651\n",
      "1638.40019339\n",
      "-3276.80117685\n",
      "6553.61327918\n",
      "-13107.2336528\n",
      "26214.2783636\n",
      "-52428.8137747\n",
      "104855.227426\n",
      "-209716.090728\n",
      "419421.634311\n",
      "-838766.681329\n",
      "1676894.02417\n",
      "-3356319.71909\n",
      "6716148.15405\n",
      "-13430422.9946\n",
      "26777937.6801\n",
      "-54193557.9819\n",
      "110185823.104\n",
      "-214194897.812\n",
      "443669221.978\n",
      "-1047168594.39\n",
      "1930255933.68\n",
      "-9021777954.55\n",
      "inf\n",
      "nan\n",
      "nan\n"
     ]
    },
    {
     "name": "stderr",
     "output_type": "stream",
     "text": [
      "C:\\ProgramData\\Anaconda3\\lib\\site-packages\\ipykernel_launcher.py:6: RuntimeWarning: divide by zero encountered in double_scalars\n",
      "  \n",
      "C:\\ProgramData\\Anaconda3\\lib\\site-packages\\ipykernel_launcher.py:2: RuntimeWarning: invalid value encountered in double_scalars\n",
      "  \n"
     ]
    }
   ],
   "source": [
    "print(alt_Newton(func, 0.1, 1e-8))"
   ]
  },
  {
   "cell_type": "markdown",
   "metadata": {},
   "source": [
    "#### Where does xi tend toward?"
   ]
  },
  {
   "cell_type": "markdown",
   "metadata": {},
   "source": [
    "$\\rightarrow$ xi is going towards positive and negative infinity."
   ]
  },
  {
   "cell_type": "markdown",
   "metadata": {},
   "source": [
    "## Exercise 2 - The Bisection Method"
   ]
  },
  {
   "cell_type": "markdown",
   "metadata": {},
   "source": [
    "Implementing the Bisection algorithm:"
   ]
  },
  {
   "cell_type": "code",
   "execution_count": 16,
   "metadata": {
    "collapsed": true
   },
   "outputs": [],
   "source": [
    "def Bisect(f, xp, xn, epsilon):\n",
    "    A = f((xp + xn) / 2)\n",
    "    \n",
    "    while abs(A) >= epsilon:\n",
    "        if A > 0:\n",
    "            xp = (xp + xn) / 2 \n",
    "            A = f((xp + xn) / 2)\n",
    "        if A < 0: \n",
    "            xn = (xp + xn) / 2\n",
    "            A = f((xp + xn) / 2)\n",
    "            \n",
    "    return (xp + xn) / 2"
   ]
  },
  {
   "cell_type": "markdown",
   "metadata": {},
   "source": [
    "#### Finding roots of $f(x) = x\\cos(x)\\ $:\n",
    "- $x = 0$"
   ]
  },
  {
   "cell_type": "code",
   "execution_count": 17,
   "metadata": {},
   "outputs": [
    {
     "name": "stdout",
     "output_type": "stream",
     "text": [
      "0.0\n"
     ]
    }
   ],
   "source": [
    "print(Bisect(x_cos_x, -.1, .1, 1e-8))"
   ]
  },
  {
   "cell_type": "markdown",
   "metadata": {},
   "source": [
    "- $x = \\displaystyle\\frac{\\pi}{2}$"
   ]
  },
  {
   "cell_type": "code",
   "execution_count": 18,
   "metadata": {},
   "outputs": [
    {
     "name": "stdout",
     "output_type": "stream",
     "text": [
      "1.5707963243126866\n"
     ]
    }
   ],
   "source": [
    "print(Bisect(x_cos_x, 1.4, 1.7, 1e-8))"
   ]
  },
  {
   "cell_type": "markdown",
   "metadata": {},
   "source": [
    "#### Finding roots of $f(x) = \\sqrt[3]{x}\\ $:"
   ]
  },
  {
   "cell_type": "code",
   "execution_count": 19,
   "metadata": {},
   "outputs": [
    {
     "name": "stdout",
     "output_type": "stream",
     "text": [
      "0.0\n"
     ]
    }
   ],
   "source": [
    "print(Bisect(func, -0.1, 0.1, 1e-8))"
   ]
  },
  {
   "cell_type": "markdown",
   "metadata": {},
   "source": [
    "## Exercise 3 - Root-Finding Speed"
   ]
  },
  {
   "cell_type": "markdown",
   "metadata": {},
   "source": [
    "* These are the altered version of the Newton-Raphson function and the Bisection function to allow them to return numbers of steps the functions take to generate roots."
   ]
  },
  {
   "cell_type": "code",
   "execution_count": 20,
   "metadata": {
    "collapsed": true
   },
   "outputs": [],
   "source": [
    "def Newton_steps(f, x0, epsilon):\n",
    "    numSteps_N = 0\n",
    "    xi = x0\n",
    "    xi = xi - f(xi) / cderiv(f, xi, 1e-6)\n",
    "    \n",
    "    while abs(f(xi)) >= epsilon:\n",
    "        xi = xi - f(xi) / cderiv(f, xi, 1e-6)\n",
    "        numSteps_N += 1\n",
    "        \n",
    "    return numSteps_N"
   ]
  },
  {
   "cell_type": "code",
   "execution_count": 21,
   "metadata": {
    "collapsed": true
   },
   "outputs": [],
   "source": [
    "def Bisect_steps(f, xp, xn, epsilon):\n",
    "    numSteps_B = 0\n",
    "    A = f((xp + xn) / 2)\n",
    "    \n",
    "    while abs(A) >= epsilon:\n",
    "        if A > 0:\n",
    "            xp = (xp + xn) / 2 \n",
    "            A = f((xp + xn) / 2)\n",
    "        if A < 0: \n",
    "            xn = (xp + xn) / 2\n",
    "            A = f((xp + xn) / 2)\n",
    "        numSteps_B += 1\n",
    "            \n",
    "    return numSteps_B"
   ]
  },
  {
   "cell_type": "code",
   "execution_count": 23,
   "metadata": {},
   "outputs": [
    {
     "data": {
      "image/png": "[encoded data removed]",
      "text/plain": [
       "<matplotlib.figure.Figure at 0x289d34b0a90>"
      ]
     },
     "metadata": {},
     "output_type": "display_data"
    }
   ],
   "source": [
    "epsilon = 10**np.linspace(-16, -1, 1000)\n",
    "\n",
    "steps_N = []\n",
    "steps_B = []\n",
    "\n",
    "for i in epsilon:\n",
    "    steps_N.append(Newton_steps(x_cos_x, 1.4, i))\n",
    "    steps_B.append(Bisect_steps(x_cos_x, 1.4, 1.7, i))\n",
    "\n",
    "plt.semilogx(epsilon, steps_N, label = 'Newton raphson')\n",
    "plt.semilogx(epsilon, steps_B, label = 'Bisection')\n",
    "\n",
    "plt.legend(loc = 'upper right', bbox_to_anchor=(1.40, 1.03))\n",
    "plt.xlabel('epsilon')\n",
    "plt.ylabel('number of steps taken to find zeros')\n",
    "\n",
    "plt.show()"
   ]
  },
  {
   "cell_type": "markdown",
   "metadata": {},
   "source": [
    "## Exercise 4 - Simple Economic Model\n",
    "$S(n) = 0.02\\cdot2^{\\ (n - A + 2)}$\n",
    "<br>\n",
    "<br>\n",
    "$D(n) = \\displaystyle\\frac{8}{\\sqrt{n}}$"
   ]
  },
  {
   "cell_type": "code",
   "execution_count": 24,
   "metadata": {
    "collapsed": true
   },
   "outputs": [],
   "source": [
    "def supply(n, A):\n",
    "    return 0.02*2**(n - A + 2)"
   ]
  },
  {
   "cell_type": "code",
   "execution_count": 25,
   "metadata": {
    "collapsed": true
   },
   "outputs": [],
   "source": [
    "def demand(n):\n",
    "    return 8/np.sqrt(n)"
   ]
  },
  {
   "cell_type": "code",
   "execution_count": 26,
   "metadata": {},
   "outputs": [
    {
     "name": "stderr",
     "output_type": "stream",
     "text": [
      "C:\\ProgramData\\Anaconda3\\lib\\site-packages\\ipykernel_launcher.py:2: RuntimeWarning: divide by zero encountered in true_divide\n",
      "  \n"
     ]
    },
    {
     "data": {
      "image/png": "[encoded data removed]",
      "text/plain": [
       "<matplotlib.figure.Figure at 0x289d0f3a6a0>"
      ]
     },
     "metadata": {},
     "output_type": "display_data"
    }
   ],
   "source": [
    "n = np.linspace(0, 10, 1000)\n",
    "\n",
    "plt.plot(n, supply(n, 0), label = 'Supply Curve with A = 0')\n",
    "plt.plot(n, supply(n, 1), label = 'Supply Curve with A = 1')\n",
    "plt.plot(n, supply(n, 2), label = 'Supply Curve with A = 2')\n",
    "plt.plot(n, supply(n, 3), label = 'Supply Curve with A = 3')\n",
    "plt.plot(n, demand(n), label = 'Demand Curce')\n",
    "\n",
    "plt.legend(loc = 'upper right', bbox_to_anchor=(1.52, 1.03))\n",
    "plt.xlabel('number of books produced/purchased (In Thousands)')\n",
    "plt.ylabel('price')\n",
    "movespines()\n",
    "\n",
    "plt.show()"
   ]
  },
  {
   "cell_type": "markdown",
   "metadata": {},
   "source": [
    "#### How does an increase in A mean an increased supply capacity?\n",
    "$\\rightarrow$ As A gets larger, the supply curve is shited outward, which indicates that the supply capacity increases as a result. This is because at the same price ranges, the numbers of books produced are greater at greater values of A.  "
   ]
  },
  {
   "cell_type": "markdown",
   "metadata": {},
   "source": [
    "#### For A = 0, what is the equilibrium price per book and number of books printed?\n",
    "$\\rightarrow$ The equilibrium of the supply and demand curve can be found by using the root finding algorithm of the point where (point of supply) - (point of demand) = 0."
   ]
  },
  {
   "cell_type": "code",
   "execution_count": 27,
   "metadata": {
    "collapsed": true
   },
   "outputs": [],
   "source": [
    "def alt_supply(n, p):\n",
    "    return 0.02*2**(n - p + 2)"
   ]
  },
  {
   "cell_type": "markdown",
   "metadata": {},
   "source": [
    "* The alt_supply curve is an alternate version of the original supply curve in order to prevent the duplication of the usage of the parameter A in both Newton-Raphson function and the supply function."
   ]
  },
  {
   "cell_type": "code",
   "execution_count": 28,
   "metadata": {
    "collapsed": true
   },
   "outputs": [],
   "source": [
    "def equil_func(x, p = 0):\n",
    "    return demand(x) - alt_supply(x, p)"
   ]
  },
  {
   "cell_type": "code",
   "execution_count": 29,
   "metadata": {},
   "outputs": [
    {
     "data": {
      "text/plain": [
       "5.4241567538658169"
      ]
     },
     "execution_count": 29,
     "metadata": {},
     "output_type": "execute_result"
    }
   ],
   "source": [
    "Newton(equil_func, 0.1, 1e-8)"
   ]
  },
  {
   "cell_type": "code",
   "execution_count": 30,
   "metadata": {},
   "outputs": [
    {
     "data": {
      "text/plain": [
       "5.424156753392892"
      ]
     },
     "execution_count": 30,
     "metadata": {},
     "output_type": "execute_result"
    }
   ],
   "source": [
    "Bisect(equil_func, 0.1, 20, 1e-8)"
   ]
  },
  {
   "cell_type": "markdown",
   "metadata": {},
   "source": [
    "* The equilibrium points generated by the Newton-Raphson function and the Bisection function represent the equilibrium x value, which indicate the number of booksprinted."
   ]
  },
  {
   "cell_type": "markdown",
   "metadata": {},
   "source": [
    "$\\rightarrow$ The equilibrium price per book for A = 0:"
   ]
  },
  {
   "cell_type": "code",
   "execution_count": 31,
   "metadata": {},
   "outputs": [
    {
     "data": {
      "text/plain": [
       "3.4349772977296436"
      ]
     },
     "execution_count": 31,
     "metadata": {},
     "output_type": "execute_result"
    }
   ],
   "source": [
    "alt_supply(Newton(equil_func, 0.1, 1e-8), 0)"
   ]
  },
  {
   "cell_type": "code",
   "execution_count": 32,
   "metadata": {},
   "outputs": [
    {
     "data": {
      "text/plain": [
       "3.4349772977161215"
      ]
     },
     "execution_count": 32,
     "metadata": {},
     "output_type": "execute_result"
    }
   ],
   "source": [
    "demand(Newton(equil_func, 0.1, 1e-8))"
   ]
  },
  {
   "cell_type": "markdown",
   "metadata": {},
   "source": [
    "#### Plot the equilibrium price per book as production capacity increases, that is as A increases from 0 to 20:"
   ]
  },
  {
   "cell_type": "code",
   "execution_count": 33,
   "metadata": {},
   "outputs": [
    {
     "data": {
      "image/png": "[encoded data removed]",
      "text/plain": [
       "<matplotlib.figure.Figure at 0x289d34fb518>"
      ]
     },
     "metadata": {},
     "output_type": "display_data"
    }
   ],
   "source": [
    "A = np.linspace(0, 20, 1000)\n",
    "\n",
    "equil_prices = []\n",
    "\n",
    "for i in A:\n",
    "    equil_prices.append(alt_supply(Newton(equil_func, 0.1, 1e-8), i))\n",
    "\n",
    "plt.plot(A, equil_prices, label = 'equilibrium price curve')\n",
    "\n",
    "plt.legend(loc = 'upper right', bbox_to_anchor=(1.52, 1.03))\n",
    "plt.xlabel('Production Capacity')\n",
    "plt.ylabel('Equilibrium Price')\n",
    "\n",
    "plt.show()"
   ]
  },
  {
   "cell_type": "code",
   "execution_count": null,
   "metadata": {
    "collapsed": true
   },
   "outputs": [],
   "source": []
  },
  {
   "cell_type": "code",
   "execution_count": null,
   "metadata": {
    "collapsed": true
   },
   "outputs": [],
   "source": []
  }
 ],
 "metadata": {
  "kernelspec": {
   "display_name": "Python 3",
   "language": "python",
   "name": "python3"
  },
  "language_info": {
   "codemirror_mode": {
    "name": "ipython",
    "version": 3
   },
   "file_extension": ".py",
   "mimetype": "text/x-python",
   "name": "python",
   "nbconvert_exporter": "python",
   "pygments_lexer": "ipython3",
   "version": "3.6.1"
  }
 },
 "nbformat": 4,
 "nbformat_minor": 2
}
