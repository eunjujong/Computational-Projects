{
 "cells": [
  {
   "cell_type": "markdown",
   "metadata": {},
   "source": [
    "# Topic 5\n",
    "### Eun Ju Jong \n",
    "### CIS 397\n",
    "### Dr. Hallenbeck"
   ]
  },
  {
   "cell_type": "code",
   "execution_count": 1,
   "metadata": {
    "collapsed": true
   },
   "outputs": [],
   "source": [
    "import numpy as np\n",
    "import matplotlib.pyplot as plt\n",
    "import csv\n",
    "import scipy.optimize as opt"
   ]
  },
  {
   "cell_type": "markdown",
   "metadata": {},
   "source": [
    "## Exercise 1 -  Fitting Teen Pregnancy Data."
   ]
  },
  {
   "cell_type": "markdown",
   "metadata": {},
   "source": [
    "Importing data from the Teenage Birth Rate csv file:"
   ]
  },
  {
   "cell_type": "code",
   "execution_count": 9,
   "metadata": {
    "collapsed": true
   },
   "outputs": [],
   "source": [
    "state = []\n",
    "poverty = []\n",
    "birth15to17 = []\n",
    "birth18to19 = []\n",
    "violcrime = []\n",
    "teenbirth = []\n",
    "\n",
    "with open('poverty.csv', newline='') as csvfile:\n",
    "    povreader = csv.reader(csvfile, delimiter=',')\n",
    "    for row in povreader:\n",
    "        state.append(row[0])\n",
    "        poverty.append(row[1])\n",
    "        birth15to17.append(row[2])\n",
    "        birth18to19.append(row[3])\n",
    "        violcrime.append(row[4])\n",
    "        teenbirth.append(row[5])"
   ]
  },
  {
   "cell_type": "code",
   "execution_count": 27,
   "metadata": {
    "collapsed": true
   },
   "outputs": [],
   "source": [
    "poverty = poverty[1:]\n",
    "teenbirth = teenbirth[1:]\n",
    "\n",
    "teenbirth = np.array(teenbirth, dtype = 'float64')\n",
    "poverty = np.array(poverty, dtype = 'float64')"
   ]
  },
  {
   "cell_type": "code",
   "execution_count": 40,
   "metadata": {},
   "outputs": [
    {
     "data": {
      "image/png": "[encoded data removed]",
      "text/plain": [
       "<matplotlib.figure.Figure at 0x1d14cec0358>"
      ]
     },
     "metadata": {},
     "output_type": "display_data"
    }
   ],
   "source": [
    "xdata = poverty\n",
    "ydata = teenbirth\n",
    "\n",
    "plt.plot(xdata, ydata, 'o', label = 'Poverty vs. Teen Birth Rate Data')\n",
    "\n",
    "plt.legend(loc = 'upper right', bbox_to_anchor=(1.63, 1.03))\n",
    "plt.xlabel('Percent of Poverty')\n",
    "plt.ylabel('Teenage Birth Rate')\n",
    "plt.show()"
   ]
  },
  {
   "cell_type": "markdown",
   "metadata": {},
   "source": [
    "When we plot the data of Teenage Birth Rate, we get the distribution above. From here, if we want to predict the parameters from the estimates on the ranges, we use the function 'opt.curve_fit'. "
   ]
  },
  {
   "cell_type": "markdown",
   "metadata": {},
   "source": [
    "In this case, we expect the function to be a positive linear line because as the poverty rate gets higher, the percentage of teenage birth of the age between 15 to 17 increases. \n",
    "\n",
    "#### A teenage Birth function: "
   ]
  },
  {
   "cell_type": "code",
   "execution_count": 13,
   "metadata": {
    "collapsed": true
   },
   "outputs": [],
   "source": [
    "def teenBirth_f(x, A, B):\n",
    "    return A * x + B"
   ]
  },
  {
   "cell_type": "markdown",
   "metadata": {},
   "source": [
    "#### Parameters and estimates on their range of The Teenage Birth Rate data:"
   ]
  },
  {
   "cell_type": "code",
   "execution_count": 38,
   "metadata": {},
   "outputs": [
    {
     "name": "stdout",
     "output_type": "stream",
     "text": [
      "[ 3.01167002  1.29859547]\n",
      "[[ 0.00054361 -0.00108723]\n",
      " [-0.00108723  0.00292886]]\n",
      "A = 3.01167001639 +/- 0.0466310428913\n",
      "95% of all intervals produced in this way will contain the true value of A\n"
     ]
    },
    {
     "name": "stderr",
     "output_type": "stream",
     "text": [
      "C:\\ProgramData\\Anaconda3\\lib\\site-packages\\ipykernel_launcher.py:5: RuntimeWarning: invalid value encountered in sqrt\n",
      "  \"\"\"\n"
     ]
    }
   ],
   "source": [
    "parameters, covar_matrix = opt.curve_fit(teenBirth_f, xdata, ydata)\n",
    "\n",
    "print(parameters)\n",
    "print(covar_matrix)\n",
    "uncert = np.sqrt(covar_matrix)\n",
    "print(\"A = \" + str(parameters[0]) + \" +/- \" + str(2 * uncert[0][0]))\n",
    "print(\"95% of all intervals produced in this way will contain the true value of A\")"
   ]
  },
  {
   "cell_type": "markdown",
   "metadata": {},
   "source": [
    "Parameters:\n",
    "    - A: 3.01167002\n",
    "    - B: 1.29859547\n",
    "Range Estimates: 3.01167001639 +/- 0.0466310428913"
   ]
  },
  {
   "cell_type": "markdown",
   "metadata": {},
   "source": [
    "#### Now, fit the data. "
   ]
  },
  {
   "cell_type": "code",
   "execution_count": 50,
   "metadata": {},
   "outputs": [
    {
     "data": {
      "image/png": "[encoded data removed]",
      "text/plain": [
       "<matplotlib.figure.Figure at 0x1d14cf395f8>"
      ]
     },
     "metadata": {},
     "output_type": "display_data"
    }
   ],
   "source": [
    "xdata = np.linspace(4, 26, 50)\n",
    "ydata = teenBirth_f(xdata, 3, 1.3)\n",
    "\n",
    "plt.plot(poverty, teenbirth, 'o', label = 'Poverty vs. Teen Birth Rate Data')\n",
    "plt.plot(xdata, teenBirth_f(xdata, parameters[0], parameters[1]), label = 'regression line')\n",
    "\n",
    "plt.legend(loc = 'upper right', bbox_to_anchor=(1.63, 1.03))\n",
    "plt.xlabel('Percent of Poverty')\n",
    "plt.ylabel('Teenage Birth Rate')\n",
    "plt.show()"
   ]
  },
  {
   "cell_type": "markdown",
   "metadata": {},
   "source": [
    "From the estimates we get of A and B, we are able to get the best-fit line of regression for the Teenage birth data. "
   ]
  },
  {
   "cell_type": "markdown",
   "metadata": {},
   "source": [
    "#### The poverty rate in Puerto Rico is 45% before Hurricane Maria. What teen birth rate do you predict with your functional fit?"
   ]
  },
  {
   "cell_type": "code",
   "execution_count": 52,
   "metadata": {},
   "outputs": [
    {
     "name": "stdout",
     "output_type": "stream",
     "text": [
      "136.823746207\n"
     ]
    }
   ],
   "source": [
    "print(teenBirth_f(45, parameters[0], parameters[1]))"
   ]
  },
  {
   "cell_type": "markdown",
   "metadata": {},
   "source": [
    "According to the estimated function, the birth rate of teenager at the poverty rate of 45% is 136.824."
   ]
  },
  {
   "cell_type": "markdown",
   "metadata": {},
   "source": [
    "## Exercise 2 - Logistic Fit and the Challenger Disaster."
   ]
  },
  {
   "cell_type": "markdown",
   "metadata": {},
   "source": [
    "The logistic function is defined as \n",
    "<br>\n",
    "<br>\n",
    "$p(x) = \\displaystyle\\frac{1}{1 + e^{-(mx + b)}}$\n",
    "<br>\n",
    "<br>\n",
    "- x is some continuous observable\n",
    "- m and b are a slope and intercept, i.e. two parameters to fit\n",
    "- The output, p(x), is the probability of a True outcome"
   ]
  },
  {
   "cell_type": "code",
   "execution_count": 15,
   "metadata": {
    "collapsed": true
   },
   "outputs": [],
   "source": [
    "def logistic_f(x, m, b):\n",
    "    return 1/(1 + np.e**(-(m*x + b)))"
   ]
  },
  {
   "cell_type": "code",
   "execution_count": 16,
   "metadata": {
    "collapsed": true
   },
   "outputs": [],
   "source": [
    "Row = []\n",
    "Date = []\n",
    "Temp = []\n",
    "Damaged = []\n",
    "O_rings = []\n",
    "\n",
    "with open('challenger.csv', newline='') as csvfile:\n",
    "    povreader = csv.reader(csvfile, delimiter=',')\n",
    "    for row in povreader:\n",
    "        Row.append(row[0])\n",
    "        Date.append(row[1])\n",
    "        Temp.append(row[2])\n",
    "        Damaged.append(row[3])\n",
    "        O_rings.append(row[4])"
   ]
  },
  {
   "cell_type": "code",
   "execution_count": 17,
   "metadata": {
    "collapsed": true
   },
   "outputs": [],
   "source": [
    "Temp = Temp[1:]\n",
    "Damaged = Damaged[1:]\n",
    "\n",
    "Temp = np.array(Temp, dtype = 'int')\n",
    "Damaged = np.array(Damaged, dtype = 'int')\n",
    "T_temp = []\n",
    "D_damaged = []\n",
    "\n",
    "for i in range(len(Damaged)):\n",
    "    if Damaged[i] == 1:\n",
    "        D_damaged.append(Damaged[i])\n",
    "        T_temp.append(Temp[i])\n",
    "    elif Damaged[i] == 0:\n",
    "        D_damaged.append(Damaged[i])\n",
    "        T_temp.append(Temp[i])"
   ]
  },
  {
   "cell_type": "code",
   "execution_count": 61,
   "metadata": {},
   "outputs": [
    {
     "data": {
      "image/png": "[encoded data removed]",
      "text/plain": [
       "<matplotlib.figure.Figure at 0x1d14cf351d0>"
      ]
     },
     "metadata": {},
     "output_type": "display_data"
    }
   ],
   "source": [
    "plt.plot(T_temp, D_damaged, 'bo', label = 'Damage on O-rings')\n",
    "\n",
    "plt.legend(loc = 'upper right', bbox_to_anchor=(1.50, 1.03))\n",
    "plt.xlabel('Temperature')\n",
    "plt.ylabel('O-ring Damages')\n",
    "plt.show()"
   ]
  },
  {
   "cell_type": "markdown",
   "metadata": {},
   "source": [
    "#### Parameters and estimates on their range of Challenger Disater data:"
   ]
  },
  {
   "cell_type": "code",
   "execution_count": 58,
   "metadata": {},
   "outputs": [
    {
     "name": "stdout",
     "output_type": "stream",
     "text": [
      "[ 1.  1.]\n",
      "[[ inf  inf]\n",
      " [ inf  inf]]\n",
      "m = 1.0 +/- inf\n",
      "95% of all intervals produced in this way will contain the true value of A\n"
     ]
    },
    {
     "name": "stderr",
     "output_type": "stream",
     "text": [
      "C:\\ProgramData\\Anaconda3\\lib\\site-packages\\scipy\\optimize\\minpack.py:779: OptimizeWarning: Covariance of the parameters could not be estimated\n",
      "  category=OptimizeWarning)\n"
     ]
    }
   ],
   "source": [
    "parameters, covar_matrix = opt.curve_fit(logistic_f, T_temp, D_damaged)\n",
    "\n",
    "print(parameters)\n",
    "print(covar_matrix)\n",
    "uncert = np.sqrt(covar_matrix)\n",
    "print(\"m = \" + str(parameters[0]) + \" +/- \" + str(2 * uncert[0][0]))\n",
    "print(\"95% of all intervals produced in this way will contain the true value of A\")"
   ]
  },
  {
   "cell_type": "markdown",
   "metadata": {},
   "source": [
    "The uncertainties of the estimates can be generated because the function is supposedly approaching negative and positive infinity. \n",
    "<br>\n",
    "<br>\n",
    "Therefore, we will be given the parameters, which are assumed to be the best fitting parameters for the function: m = -0.7, b = 50."
   ]
  },
  {
   "cell_type": "markdown",
   "metadata": {},
   "source": [
    "#### Data fitting:"
   ]
  },
  {
   "cell_type": "code",
   "execution_count": 60,
   "metadata": {},
   "outputs": [
    {
     "data": {
      "image/png": "[encoded data removed]",
      "text/plain": [
       "<matplotlib.figure.Figure at 0x1d14caff2e8>"
      ]
     },
     "metadata": {},
     "output_type": "display_data"
    }
   ],
   "source": [
    "x = np.linspace(50, 90, 100)\n",
    "y = logistic_f(x, -0.7, 50)\n",
    "\n",
    "plt.plot(T_temp, D_damaged, 'bo', label = 'Damage on O-rings')\n",
    "plt.plot(x, y, 'r:', label = 'regression line')\n",
    "\n",
    "plt.legend(loc = 'upper right', bbox_to_anchor=(1.50, 1.03))\n",
    "plt.xlabel('Temperature')\n",
    "plt.ylabel('O-ring Damages')\n",
    "plt.show()"
   ]
  },
  {
   "cell_type": "markdown",
   "metadata": {},
   "source": [
    "#### The day the Challenger launched, it was 36°F. According to your model, what is the probability that an o-ring would fail?"
   ]
  },
  {
   "cell_type": "code",
   "execution_count": 62,
   "metadata": {},
   "outputs": [
    {
     "name": "stdout",
     "output_type": "stream",
     "text": [
      "0.9999999999830371\n"
     ]
    }
   ],
   "source": [
    "print(logistic_f(36, -0.7, 50))"
   ]
  },
  {
   "cell_type": "markdown",
   "metadata": {},
   "source": [
    "According to the estimated function, the probability of the failure of an o-ring at a temperature of 36°F is 0.9999999999830371, which shows almost an absolute chance of a failure."
   ]
  }
 ],
 "metadata": {
  "kernelspec": {
   "display_name": "Python 3",
   "language": "python",
   "name": "python3"
  },
  "language_info": {
   "codemirror_mode": {
    "name": "ipython",
    "version": 3
   },
   "file_extension": ".py",
   "mimetype": "text/x-python",
   "name": "python",
   "nbconvert_exporter": "python",
   "pygments_lexer": "ipython3",
   "version": "3.6.1"
  }
 },
 "nbformat": 4,
 "nbformat_minor": 2
}
