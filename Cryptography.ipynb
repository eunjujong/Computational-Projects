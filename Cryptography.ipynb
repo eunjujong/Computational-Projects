{
 "cells": [
  {
   "cell_type": "markdown",
   "metadata": {},
   "source": [
    "# Cryptoghaphy\n",
    "### Greg Lu & Eun Ju Jong\n",
    "### CIS-397\n",
    "### Dr. Hallenbeck"
   ]
  },
  {
   "cell_type": "code",
   "execution_count": 1,
   "metadata": {},
   "outputs": [],
   "source": [
    "import numpy as np"
   ]
  },
  {
   "cell_type": "markdown",
   "metadata": {},
   "source": [
    "$$A =\\begin{bmatrix}\n",
    " 2 & 3\\\\\n",
    " 5 & 4\n",
    " \\end{bmatrix}$$\n",
    "\n",
    "Maping Table = \n",
    "<br>\n",
    "<br>\n",
    "$[\\frac{A}{1}, \\frac{B}{2}, \\frac{C}{3}, \\frac{D}{4}, \\frac{E}{5}, \\frac{F}{6}, \\frac{G}{7}, \\frac{H}{8}, \\frac{I}{9}, \\frac{J}{10}, \\frac{K}{11}, \\frac{L}{12}, \\frac{M}{13}, \\frac{N}{14}, \\frac{O}{15}, \\frac{P}{16}, \\frac{Q}{17}, \\frac{R}{18}, \\frac{S}{19}, \\frac{T}{20}, \\frac{U}{21}, \\frac{V}{22}, \\frac{W}{23}, \\frac{X}{24}, \\frac{Y}{25}, \\frac{Z}{0}]$"
   ]
  },
  {
   "cell_type": "code",
   "execution_count": 19,
   "metadata": {},
   "outputs": [],
   "source": [
    "hill_ciphers_map = {'A': 1, 'B': 2, 'C': 3, 'D': 4, 'E': 5, 'F': 6, 'G': 7, 'H': 8, 'I': 9, 'J': 10, 'K': 11, 'L': 12, 'M': 13, 'N': 14, 'O': 15, 'P': 16, 'Q': 17, 'R': 18, 'S': 19, 'T': 20, 'U': 21, 'V': 22, 'W': 23, 'X': 24, 'Y': 25, 'Z': 0}\n",
    "tableArr = ['A', 'B', 'C', 'D', 'E', 'F', 'G', 'H', 'I', 'J', 'K', 'L', 'M', 'N', 'O', 'P', 'Q', 'R', 'S', 'T', 'U', 'V', 'W', 'X', 'Y', 'Z']\n",
    "\n",
    "# a set of 2X2 matric with nonnegative integer entries\n",
    "A = [2, 3, 5, 4]\n",
    "\n",
    "# encoded message: IAMBATMAN --> IAMBATMANN      *an extra N is a \"dummy\" letter\n",
    "global text\n",
    "\n",
    "text = 'IAMBATMAN'"
   ]
  },
  {
   "cell_type": "code",
   "execution_count": 7,
   "metadata": {},
   "outputs": [],
   "source": [
    "# determonant: to determine whether a determinant of the matrix is zero\n",
    "# A = [a, b, c, d] --> det(A) = ad - bc\n",
    "\n",
    "def determinant(arr):\n",
    "    return arr[0]*arr[3] - arr[1]*arr[2]"
   ]
  },
  {
   "cell_type": "code",
   "execution_count": 12,
   "metadata": {},
   "outputs": [
    {
     "data": {
      "text/plain": [
       "-7"
      ]
     },
     "execution_count": 12,
     "metadata": {},
     "output_type": "execute_result"
    }
   ],
   "source": [
    "determinant(A)"
   ]
  },
  {
   "cell_type": "code",
   "execution_count": 13,
   "metadata": {},
   "outputs": [],
   "source": [
    "def det_modulo(arr):\n",
    "    return (arr[0]*arr[3] - arr[1]*arr[2]) % 26"
   ]
  },
  {
   "cell_type": "code",
   "execution_count": 14,
   "metadata": {},
   "outputs": [
    {
     "data": {
      "text/plain": [
       "19"
      ]
     },
     "execution_count": 14,
     "metadata": {},
     "output_type": "execute_result"
    }
   ],
   "source": [
    "det_modulo(A)"
   ]
  },
  {
   "cell_type": "code",
   "execution_count": 23,
   "metadata": {},
   "outputs": [],
   "source": [
    "# Incrypting messages\n",
    "\n",
    "def encrypting(message, table, codeMap, mtrx):\n",
    "    message = list(message)\n",
    "    \n",
    "    if(len(message) % 2 != 0):\n",
    "        message.append(message[len(message) - 1])\n",
    "    \n",
    "    arr = []\n",
    "    for i in range(len(message)):\n",
    "        for j in range(len(table)):\n",
    "            if(message[i] == table[j]):\n",
    "                arr.append(codeMap[table[j]])\n",
    "    \n",
    "    k = 0\n",
    "    i = 0\n",
    "    j = 0\n",
    "    count = 0\n",
    "    cipher_vector = []\n",
    "    \n",
    "    while(j < len(arr)):\n",
    "        cipher_vector.append((mtrx[k]*arr[j] + mtrx[k + 1]*arr[j + 1]) % 26)\n",
    "        k += 2\n",
    "        count += 1\n",
    "        \n",
    "        if(count % 2 == 0):\n",
    "            i += 1\n",
    "            k = 0\n",
    "        if(count == 2):\n",
    "            count = 0\n",
    "            j += 2\n",
    "            \n",
    "    incriptedText = []\n",
    "    print(cipher_vector)\n",
    "    for i in range(len(cipher_vector)):\n",
    "        for j in range(len(tableArr)):\n",
    "            if(cipher_vector[i] == hill_ciphers_map[tableArr[j]]):\n",
    "                incriptedText.append(tableArr[j])\n",
    "                    \n",
    "    return incriptedText"
   ]
  },
  {
   "cell_type": "code",
   "execution_count": 24,
   "metadata": {},
   "outputs": [
    {
     "name": "stdout",
     "output_type": "stream",
     "text": [
      "[21, 23, 6, 21, 10, 7, 3, 17, 18, 22]\n"
     ]
    },
    {
     "data": {
      "text/plain": [
       "['U', 'W', 'F', 'U', 'J', 'G', 'C', 'Q', 'R', 'V']"
      ]
     },
     "execution_count": 24,
     "metadata": {},
     "output_type": "execute_result"
    }
   ],
   "source": [
    "encrypting(text, tableArr, hill_ciphers_map, A)"
   ]
  },
  {
   "cell_type": "code",
   "execution_count": 9,
   "metadata": {},
   "outputs": [],
   "source": [
    "reciprocal_modulo = {1: 1, 3: 9, 5: 21, 7: 15, 9: 3, 11: 19, 15: 7, 17: 23, 19: 11, 21: 5, 23: 17, 25: 25}\n",
    "\n",
    "# Inverse of a determinant\n",
    "\n",
    "def det_inverse(arr):\n",
    "    det_modulo = (arr[0]*arr[3] - arr[1]*arr[2]) % 26\n",
    "    \n",
    "    return reciprocal_modulo[det_modulo]"
   ]
  },
  {
   "cell_type": "code",
   "execution_count": 15,
   "metadata": {},
   "outputs": [
    {
     "data": {
      "text/plain": [
       "11"
      ]
     },
     "execution_count": 15,
     "metadata": {},
     "output_type": "execute_result"
    }
   ],
   "source": [
    "det_inverse(A)"
   ]
  },
  {
   "cell_type": "code",
   "execution_count": 10,
   "metadata": {},
   "outputs": [],
   "source": [
    "# Inverse matrix to decrypt\n",
    "\n",
    "def inverse_matrix(mtrx, det_inv):\n",
    "    arr = []\n",
    "    mtrx_inv = []\n",
    "    \n",
    "    for i in range(len(mtrx)):\n",
    "        if(i == 0):\n",
    "            arr.append(mtrx[3])\n",
    "        if(i == 1):\n",
    "            arr.append(-mtrx[1])\n",
    "        if(i == 2):\n",
    "            arr.append(-mtrx[2])\n",
    "        if(i == 3):\n",
    "            arr.append(mtrx[0])\n",
    "            \n",
    "    for i in range(len(arr)):\n",
    "        mtrx_inv.append(det_inv * arr[i] % 26)\n",
    "        \n",
    "    return mtrx_inv"
   ]
  },
  {
   "cell_type": "code",
   "execution_count": 16,
   "metadata": {},
   "outputs": [
    {
     "data": {
      "text/plain": [
       "[18, 19, 23, 22]"
      ]
     },
     "execution_count": 16,
     "metadata": {},
     "output_type": "execute_result"
    }
   ],
   "source": [
    "inverse_matrix(A, 11)"
   ]
  },
  {
   "cell_type": "code",
   "execution_count": 36,
   "metadata": {},
   "outputs": [],
   "source": [
    "# Decrypting codes\n",
    "\n",
    "def decrypting(encrypted, mtrx_inv):\n",
    "    encryptedText = []\n",
    "    for i in range(len(encrypted)):\n",
    "        for j in range(len(tableArr)):\n",
    "            if(encrypted[i] == tableArr[j]):\n",
    "                encryptedText.append(hill_ciphers_map[tableArr[j]])\n",
    "    \n",
    "    k = 0\n",
    "    i = 0\n",
    "    j = 0 \n",
    "    count = 0\n",
    "    decryptedText = []\n",
    "    \n",
    "    while(j < len(encryptedText)):\n",
    "        decryptedText.append((mtrx_inv[k]*encryptedText[j] + mtrx_inv[k + 1]*encryptedText[j + 1]) % 26)\n",
    "        k += 2\n",
    "        count += 1\n",
    "        \n",
    "        if(count % 2 == 0):\n",
    "            k = 0\n",
    "\n",
    "        if(count == 2):\n",
    "            count = 0\n",
    "            j += 2\n",
    "    \n",
    "    message = []\n",
    "    for i in range(len(decryptedText)):\n",
    "        for j in range(len(tableArr)):\n",
    "            if(decryptedText[i] == hill_ciphers_map[tableArr[j]]):\n",
    "                message.append(tableArr[j])\n",
    "    \n",
    "    return message"
   ]
  },
  {
   "cell_type": "code",
   "execution_count": 37,
   "metadata": {},
   "outputs": [
    {
     "name": "stdout",
     "output_type": "stream",
     "text": [
      "[21, 23, 6, 21, 10, 7, 3, 17, 18, 22]\n"
     ]
    },
    {
     "data": {
      "text/plain": [
       "['I', 'A', 'M', 'B', 'A', 'T', 'M', 'A', 'N', 'N']"
      ]
     },
     "execution_count": 37,
     "metadata": {},
     "output_type": "execute_result"
    }
   ],
   "source": [
    "a = encrypting(text, tableArr, hill_ciphers_map, A)\n",
    "b = [18, 19, 23, 22]\n",
    "\n",
    "decrypting(a, b)"
   ]
  },
  {
   "cell_type": "markdown",
   "metadata": {},
   "source": [
    "### How does \"Modulo Arithmetic\" differ from other encrypting methods?"
   ]
  },
  {
   "cell_type": "code",
   "execution_count": 38,
   "metadata": {},
   "outputs": [],
   "source": [
    "text_2 = 'IAIACTHULHUFTAIGHN'"
   ]
  },
  {
   "cell_type": "code",
   "execution_count": 28,
   "metadata": {},
   "outputs": [
    {
     "name": "stdout",
     "output_type": "stream",
     "text": [
      "[21, 23, 21, 23, 14, 17, 1, 20, 22, 14, 8, 25, 17, 0, 13, 21, 6, 18]\n"
     ]
    },
    {
     "data": {
      "text/plain": [
       "['U',\n",
       " 'W',\n",
       " 'U',\n",
       " 'W',\n",
       " 'N',\n",
       " 'Q',\n",
       " 'A',\n",
       " 'T',\n",
       " 'V',\n",
       " 'N',\n",
       " 'H',\n",
       " 'Y',\n",
       " 'Q',\n",
       " 'Z',\n",
       " 'M',\n",
       " 'U',\n",
       " 'F',\n",
       " 'R']"
      ]
     },
     "execution_count": 28,
     "metadata": {},
     "output_type": "execute_result"
    }
   ],
   "source": [
    "encrypting(text_2, tableArr, hill_ciphers_map, A)"
   ]
  },
  {
   "cell_type": "code",
   "execution_count": 39,
   "metadata": {},
   "outputs": [
    {
     "name": "stdout",
     "output_type": "stream",
     "text": [
      "[21, 23, 21, 23, 14, 17, 1, 20, 22, 14, 8, 25, 17, 0, 13, 21, 6, 18]\n"
     ]
    },
    {
     "data": {
      "text/plain": [
       "['I',\n",
       " 'A',\n",
       " 'I',\n",
       " 'A',\n",
       " 'C',\n",
       " 'T',\n",
       " 'H',\n",
       " 'U',\n",
       " 'L',\n",
       " 'H',\n",
       " 'U',\n",
       " 'F',\n",
       " 'T',\n",
       " 'A',\n",
       " 'I',\n",
       " 'G',\n",
       " 'H',\n",
       " 'N']"
      ]
     },
     "execution_count": 39,
     "metadata": {},
     "output_type": "execute_result"
    }
   ],
   "source": [
    "a = encrypting(text_2, tableArr, hill_ciphers_map, A)\n",
    "b = [18, 19, 23, 22]\n",
    "\n",
    "decrypting(a, b)"
   ]
  },
  {
   "cell_type": "code",
   "execution_count": null,
   "metadata": {},
   "outputs": [],
   "source": []
  }
 ],
 "metadata": {
  "kernelspec": {
   "display_name": "Python 3",
   "language": "python",
   "name": "python3"
  },
  "language_info": {
   "codemirror_mode": {
    "name": "ipython",
    "version": 3
   },
   "file_extension": ".py",
   "mimetype": "text/x-python",
   "name": "python",
   "nbconvert_exporter": "python",
   "pygments_lexer": "ipython3",
   "version": "3.6.4"
  }
 },
 "nbformat": 4,
 "nbformat_minor": 2
}
