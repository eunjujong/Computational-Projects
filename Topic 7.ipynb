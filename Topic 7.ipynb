{
 "cells": [
  {
   "cell_type": "markdown",
   "metadata": {},
   "source": [
    "# Topic 7\n",
    "### Eun Ju Jong \n",
    "### CIS 397\n",
    "### Dr. Hallenbeck"
   ]
  },
  {
   "cell_type": "code",
   "execution_count": 152,
   "metadata": {
    "collapsed": true
   },
   "outputs": [],
   "source": [
    "import numpy as np\n",
    "import matplotlib.pyplot as plt"
   ]
  },
  {
   "cell_type": "code",
   "execution_count": 153,
   "metadata": {
    "collapsed": true
   },
   "outputs": [],
   "source": [
    "def movespines():\n",
    "    ax = plt.gca()\n",
    "    ax.spines['right'].set_color('none')\n",
    "    ax.spines['top'].set_color('none')\n",
    "    ax.spines['bottom'].set_position(('data',0))\n",
    "    ax.spines['left'].set_position(('data',0))"
   ]
  },
  {
   "cell_type": "markdown",
   "metadata": {},
   "source": [
    "## Exercise 1 - The Newton-Raphson Optimizer\n",
    "Newton-Raphson function to find the nearest minimum of a function:"
   ]
  },
  {
   "cell_type": "code",
   "execution_count": 154,
   "metadata": {
    "collapsed": true
   },
   "outputs": [],
   "source": [
    "#first derivative function\n",
    "def cderiv(f, x, h):\n",
    "    return (f(x + h) - f(x - h)) / (2*h)"
   ]
  },
  {
   "cell_type": "code",
   "execution_count": 155,
   "metadata": {
    "collapsed": true
   },
   "outputs": [],
   "source": [
    "#second derivative function\n",
    "def cderiv_sec(f, x, h):\n",
    "    return (cderiv(f, x + h, h) - cderiv(f, x - h, h)) / (2*h)"
   ]
  },
  {
   "cell_type": "code",
   "execution_count": 156,
   "metadata": {
    "collapsed": true
   },
   "outputs": [],
   "source": [
    "def NR_optimizer(f, x0, epsilon):\n",
    "    xi = x0\n",
    "    h = 1e-6\n",
    "    xi = xi - cderiv(f, xi, h) / cderiv_sec(f, xi, h)\n",
    "    \n",
    "    while abs(cderiv(f, xi, h)) >= epsilon:\n",
    "        xi = xi - cderiv(f, xi, h) / cderiv_sec(f, xi, h)\n",
    "        \n",
    "    return xi"
   ]
  },
  {
   "cell_type": "markdown",
   "metadata": {},
   "source": [
    "#### Testing on a function $f(x) = x^2 - 2^x$:"
   ]
  },
  {
   "cell_type": "code",
   "execution_count": 157,
   "metadata": {
    "collapsed": true
   },
   "outputs": [],
   "source": [
    "def func(x):\n",
    "    return x**2 - 2**x"
   ]
  },
  {
   "cell_type": "markdown",
   "metadata": {},
   "source": [
    "When estimating as $x0 = 0$:"
   ]
  },
  {
   "cell_type": "code",
   "execution_count": 158,
   "metadata": {},
   "outputs": [
    {
     "name": "stdout",
     "output_type": "stream",
     "text": [
      "The local minimum: 0.4850896433604895\n"
     ]
    }
   ],
   "source": [
    "NR_optimizer(func, 0, 1e-8)\n",
    "print(\"The local minimum: \" + str(NR_optimizer(func, 0, 1e-8)))"
   ]
  },
  {
   "cell_type": "markdown",
   "metadata": {},
   "source": [
    "When estimating as $x0 = 2.5$:"
   ]
  },
  {
   "cell_type": "code",
   "execution_count": 159,
   "metadata": {},
   "outputs": [
    {
     "data": {
      "text/plain": [
       "3.2124325245354313"
      ]
     },
     "execution_count": 159,
     "metadata": {},
     "output_type": "execute_result"
    }
   ],
   "source": [
    "NR_optimizer(func, 2.5, 1e-8)"
   ]
  },
  {
   "cell_type": "markdown",
   "metadata": {},
   "source": [
    "$\\rightarrow$The Newton Raphson Optimizer is not generating the correct extrema of the function."
   ]
  },
  {
   "cell_type": "code",
   "execution_count": 160,
   "metadata": {},
   "outputs": [
    {
     "data": {
      "image/png": "[encoded data removed]",
      "text/plain": [
       "<matplotlib.figure.Figure at 0x1b2c79b2128>"
      ]
     },
     "metadata": {},
     "output_type": "display_data"
    }
   ],
   "source": [
    "x = np.linspace(-5, 5, 100)\n",
    "\n",
    "plt.plot(x, func(x), label = '$f(x)=x^2 - 2^x$')\n",
    "plt.plot(NR_optimizer(func, 0, 1e-8), func(NR_optimizer(func, 0, 1e-8)), 'bo', label = \"$x0 = 0$ (local min)\")\n",
    "plt.plot(NR_optimizer(func, 2.5, 1e-8), func(NR_optimizer(func, 2.5, 1e-8)), 'ro', label = \"x0 = 2.5\")\n",
    "\n",
    "plt.legend(loc = 'upper right', bbox_to_anchor=(1.37, 1.03))\n",
    "movespines()\n",
    "\n",
    "plt.show()"
   ]
  },
  {
   "cell_type": "markdown",
   "metadata": {},
   "source": [
    "#### Why does the Newton-Raphson Optimizer generate a different value for the nearest minimum? \n",
    "\n",
    "This might be because we are using derivative of a given function to determine whether the arbitrary value $x0$ is close zero with an error less than or equal to the epsilon. when estimating the arbitrary $x0$ to be a value which is too far away from the exact x minimum value of the function, there is a possibility that the Newton-Raphson optimizer will generate another point where the derivative of the point is zero if the function contains multiple local minimum or maximum points.\n",
    "<br>\n",
    "<br>\n",
    "$\\rightarrow$ One solution to fix this problem is to set the arbitrary $x0$ to be as close to the actual minimum x value that we are trying to estimate as possible by graphing the function and making the cloest estimate for the minimum.  "
   ]
  },
  {
   "cell_type": "markdown",
   "metadata": {
    "collapsed": true
   },
   "source": [
    "## Exercise 2 - Gradient Descent in 1-D\n",
    "Let's implement the Gradient Descent."
   ]
  },
  {
   "cell_type": "code",
   "execution_count": 161,
   "metadata": {
    "collapsed": true
   },
   "outputs": [],
   "source": [
    "def gradient_1D(f, x0, epsilon):\n",
    "    xi = x0\n",
    "    xj = x0\n",
    "    #some small value representing the step size\n",
    "    d = 0.01\n",
    "    xi = xi - cderiv(f, xi, h = 1e-6) * d\n",
    "    \n",
    "    while abs(cderiv(f, xi, h = 1e-6)) >= epsilon:\n",
    "        if f(xi) >= f(xj):\n",
    "            d *= 0.5\n",
    "        xj = xi\n",
    "        xi = xi - cderiv(f, xi, h = 1e-6) * d\n",
    "            \n",
    "    return xi"
   ]
  },
  {
   "cell_type": "markdown",
   "metadata": {},
   "source": [
    "#### Test the gradient descent on $f(x) = x^2 - 2^x$:"
   ]
  },
  {
   "cell_type": "code",
   "execution_count": 162,
   "metadata": {},
   "outputs": [
    {
     "data": {
      "text/plain": [
       "0.48508888388865135"
      ]
     },
     "execution_count": 162,
     "metadata": {},
     "output_type": "execute_result"
    }
   ],
   "source": [
    "gradient_1D(func, 0, 1e-6)"
   ]
  },
  {
   "cell_type": "code",
   "execution_count": 163,
   "metadata": {},
   "outputs": [
    {
     "data": {
      "text/plain": [
       "0.48509038902327717"
      ]
     },
     "execution_count": 163,
     "metadata": {},
     "output_type": "execute_result"
    }
   ],
   "source": [
    "gradient_1D(func, 2.5, 1e-6)"
   ]
  },
  {
   "cell_type": "markdown",
   "metadata": {},
   "source": [
    "Using the One dimentional gradient optimizer, we are able to generate approximately accurate the local extreme for $f(x) = x^2 - 2^x$ even when the estimate $x0$ is set to be 2.5.\n",
    "#### How large can you make x0 before the gradient fails? Why?"
   ]
  },
  {
   "cell_type": "code",
   "execution_count": 164,
   "metadata": {},
   "outputs": [
    {
     "name": "stdout",
     "output_type": "stream",
     "text": [
      "when x0 = 0.0, extremum = 0.485088883889\n",
      "when x0 = 0.1, extremum = 0.485088885352\n",
      "when x0 = 0.2, extremum = 0.485088888651\n",
      "when x0 = 0.3, extremum = 0.485088889736\n",
      "when x0 = 0.4, extremum = 0.485088888627\n",
      "when x0 = 0.5, extremum = 0.48509038473\n",
      "when x0 = 0.6, extremum = 0.485090386454\n",
      "when x0 = 0.7, extremum = 0.485090389204\n",
      "when x0 = 0.8, extremum = 0.485090389997\n",
      "when x0 = 0.9, extremum = 0.485090381971\n",
      "when x0 = 1.0, extremum = 0.485090389917\n",
      "when x0 = 1.1, extremum = 0.485090389926\n",
      "when x0 = 1.2, extremum = 0.485090380802\n",
      "when x0 = 1.3, extremum = 0.48509038788\n",
      "when x0 = 1.4, extremum = 0.485090384743\n",
      "when x0 = 1.5, extremum = 0.485090383852\n",
      "when x0 = 1.6, extremum = 0.485090387061\n",
      "when x0 = 1.7, extremum = 0.485090385804\n",
      "when x0 = 1.8, extremum = 0.485090381263\n",
      "when x0 = 1.9, extremum = 0.485090384435\n",
      "when x0 = 2.0, extremum = 0.485090386259\n",
      "when x0 = 2.1, extremum = 0.485090387625\n",
      "when x0 = 2.2, extremum = 0.485090389457\n",
      "when x0 = 2.3, extremum = 0.485090382758\n",
      "when x0 = 2.4, extremum = 0.485090388765\n",
      "when x0 = 2.5, extremum = 0.485090389023\n",
      "when x0 = 2.6, extremum = 0.485090385615\n",
      "when x0 = 2.7, extremum = 0.4850903817\n",
      "when x0 = 2.8, extremum = 0.485090382257\n",
      "when x0 = 2.9, extremum = 0.485090386401\n",
      "when x0 = 3.0, extremum = 0.48509038384\n",
      "when x0 = 3.1, extremum = 0.485090383429\n",
      "when x0 = 3.2, extremum = 0.485090387952\n",
      "when x0 = 3.3, extremum = 1.17925328321e+31\n",
      "when x0 = 3.4, extremum = 4.57497319442e+36\n",
      "when x0 = 3.5, extremum = 2900.66834711\n",
      "when x0 = 3.6, extremum = 12612.2343803\n",
      "when x0 = 3.7, extremum = 6545095753.28\n",
      "when x0 = 3.8, extremum = 4243.58529661\n",
      "when x0 = 3.9, extremum = 1.8205096858e+14\n",
      "when x0 = 4.0, extremum = 71005.1457949\n",
      "when x0 = 4.1, extremum = 302196.233182\n",
      "when x0 = 4.2, extremum = 1.18616656982e+81\n",
      "when x0 = 4.3, extremum = 2929.1422697\n",
      "when x0 = 4.4, extremum = 1.75854393344e+273\n",
      "when x0 = 4.5, extremum = 5.86898798354e+20\n",
      "when x0 = 4.6, extremum = 6255.42608434\n",
      "when x0 = 4.7, extremum = 98635440.2414\n",
      "when x0 = 4.8, extremum = 7.86924458101e+13\n",
      "when x0 = 4.9, extremum = 5.13927068992e+15\n"
     ]
    },
    {
     "name": "stderr",
     "output_type": "stream",
     "text": [
      "C:\\ProgramData\\Anaconda3\\lib\\site-packages\\ipykernel_launcher.py:2: RuntimeWarning: overflow encountered in double_scalars\n",
      "  \n",
      "C:\\ProgramData\\Anaconda3\\lib\\site-packages\\ipykernel_launcher.py:3: RuntimeWarning: invalid value encountered in double_scalars\n",
      "  This is separate from the ipykernel package so we can avoid doing imports until\n",
      "C:\\ProgramData\\Anaconda3\\lib\\site-packages\\ipykernel_launcher.py:2: RuntimeWarning: invalid value encountered in double_scalars\n",
      "  \n"
     ]
    }
   ],
   "source": [
    "for i in np.arange(0, 5, 0.1):\n",
    "    print(\"when x0 = \" + str(i) + \", extremum = \" + str(gradient_1D(func, i, 1e-6)))"
   ]
  },
  {
   "cell_type": "markdown",
   "metadata": {},
   "source": [
    "$\\rightarrow$ As we can see, the extremum generated from the one dimentional gradient optimazer is approximately accurate until it fails at the point where the estimate of $x0$ becomes 3.2.\n",
    "<br>\n",
    "<br>\n",
    "This is because the optimizer is coded in a way that it can only find minimum extremes regarding how a new $x0$ value is defined and how the reduction of delta is set up within the funciton. \n",
    "#### Is this a problem?\n",
    "This can be a problem when a function has multiple extrema.\n",
    "<br>\n",
    "<br>\n",
    "Since the gradient optimizer generates extremes with an implemetation of calculating the minimum values of a function only, we will not be able to get extreme maximum values unless we give an ansolutely precise value that approximately falls into the actual value of the extreme. "
   ]
  },
  {
   "cell_type": "markdown",
   "metadata": {},
   "source": [
    "#### Test the gradient descent on the function $f(x) = (sin(x) + 2)(x^2 + 1)$:"
   ]
  },
  {
   "cell_type": "code",
   "execution_count": 165,
   "metadata": {
    "collapsed": true
   },
   "outputs": [],
   "source": [
    "def func_2(x):\n",
    "    return (np.sin(x) + 2) * ((x**2) + 1)"
   ]
  },
  {
   "cell_type": "code",
   "execution_count": 166,
   "metadata": {},
   "outputs": [
    {
     "name": "stdout",
     "output_type": "stream",
     "text": [
      "The local extreme: -0.307249210291\n"
     ]
    }
   ],
   "source": [
    "print(\"The local extreme: \" + str(gradient_1D(func_2, 0, 1e-6)))"
   ]
  },
  {
   "cell_type": "code",
   "execution_count": 167,
   "metadata": {},
   "outputs": [
    {
     "data": {
      "image/png": "[encoded data removed]",
      "text/plain": [
       "<matplotlib.figure.Figure at 0x1b2c73a5630>"
      ]
     },
     "metadata": {},
     "output_type": "display_data"
    }
   ],
   "source": [
    "x = np.linspace(-10, 10, 100)\n",
    "\n",
    "plt.semilogy(x, func_2(x), label = '$f(x)=(sin(x) + 2)(x^2 + 1)$')\n",
    "plt.semilogy(gradient_1D(func_2, 0, 1e-6), func_2(gradient_1D(func_2, 0, 1e-5)), 'ro', label = 'extreme minimum')\n",
    "\n",
    "plt.legend(loc = 'upper right', bbox_to_anchor=(1.53, 1.03))\n",
    "#movespines(bottom = False)\n",
    "\n",
    "plt.show()"
   ]
  },
  {
   "cell_type": "markdown",
   "metadata": {},
   "source": [
    "#### Are there choices of x0 where finding the minimum fails? Why?"
   ]
  },
  {
   "cell_type": "code",
   "execution_count": 168,
   "metadata": {},
   "outputs": [
    {
     "name": "stdout",
     "output_type": "stream",
     "text": [
      "when x0 = -10, extremum = -7.5818124139\n",
      "when x0 = -9, extremum = -7.58181269506\n",
      "when x0 = -8, extremum = -7.58181279144\n",
      "when x0 = -7, extremum = -7.58180974413\n",
      "when x0 = -6, extremum = -7.5818091121\n",
      "when x0 = -5, extremum = -0.307288578943\n",
      "when x0 = -4, extremum = -0.307287989942\n",
      "when x0 = -3, extremum = -0.307288610549\n",
      "when x0 = -2, extremum = -0.307288673496\n",
      "when x0 = -1, extremum = -0.307288377867\n",
      "when x0 = 0, extremum = -0.307211113854\n",
      "when x0 = 1, extremum = -0.307211190693\n",
      "when x0 = 2, extremum = -0.307210945057\n",
      "when x0 = 3, extremum = -0.307211135691\n",
      "when x0 = 4, extremum = 4.16518955858\n",
      "when x0 = 5, extremum = 4.16521012436\n",
      "when x0 = 6, extremum = 4.16521053202\n",
      "when x0 = 7, extremum = 4.16521088631\n",
      "when x0 = 8, extremum = 4.16521092287\n",
      "when x0 = 9, extremum = 10.8077646916\n",
      "when x0 = 10, extremum = 10.8077639767\n"
     ]
    }
   ],
   "source": [
    "for i in range(-10, 11):\n",
    "    print(\"when x0 = \" + str(i) + \", extremum = \" + str(gradient_1D(func_2, i, 1e-4)))"
   ]
  },
  {
   "cell_type": "markdown",
   "metadata": {},
   "source": [
    "$\\rightarrow$ When the optimizer is given an estimate in a range of [-10, -6], it generates a local minimum of approximately -7.58. Also, when the optimizer is given an estimate in a range of [4, 8], it generates a local minimum of approximately 4.165. It is interesting to see that when the optimizer is given the estimate of 9 or 10, it generates the value of the local maximum.  \n",
    "<br>\n",
    "As I have mentioned earlier, the function of one dimetional gradient descent is defined to calculate minimum extremes. That is why if a function has multiple extrema, it will generate a local minimum within the range of precision as given the estimate of $x0$."
   ]
  },
  {
   "cell_type": "markdown",
   "metadata": {},
   "source": [
    "## Exercise 3 - Gradient Descent in Higher Dimensions\n",
    "$\\rightarrow$ To generalize the gradient function to higher dimensions, we will first need to define a gradient function.\n",
    "<br>\n",
    "$\\rightarrow$ A gradient is a vector, with each element given as $(\\overrightarrow{\\bigtriangledown f})_i = \\displaystyle\\frac{\\partial f}{\\partial x_i}$\n",
    "<br>\n",
    "$\\rightarrow$ This can be done by running a centered differencing derivative on the function multiple times, shifting only one of the entries in your x array each time."
   ]
  },
  {
   "cell_type": "code",
   "execution_count": 169,
   "metadata": {
    "collapsed": true
   },
   "outputs": [],
   "source": [
    "#the gradient function to calculate the gradient of f at point (x, y)\n",
    "def gradient(f, x, y, h=1e-6):\n",
    "    gradient_x = (f(x + h, y) - f(x - h, y)) / (2*h)\n",
    "    gradient_y = (f(x, y + h) - f(x, y - h)) / (2*h)\n",
    "    \n",
    "    return (gradient_x, gradient_y)"
   ]
  },
  {
   "cell_type": "code",
   "execution_count": 323,
   "metadata": {
    "collapsed": true
   },
   "outputs": [],
   "source": [
    "def gradient_2D(f, x0, y0, epsilon=1e-7, trace = False):\n",
    "    xi = x0\n",
    "    xj = x0\n",
    "    yi = y0\n",
    "    yj = y0\n",
    "    #some small value representing the step size\n",
    "    d = 0.1\n",
    "    xi = xi - gradient(f, xi, yi, h = 1e-9)[0] * d\n",
    "    yi = yi - gradient(f, xi, yi, h = 1e-9)[1] * d\n",
    "    \n",
    "    while np.sqrt(gradient(f, xi, yi, h = 1e-9)[0]**2 + gradient(f, xi, yi, h = 1e-9)[1]**2) >= epsilon:\n",
    "        if f(xi, yi) >= f(xj, yj):\n",
    "            d /= 1.5\n",
    "            \n",
    "        if(trace):\n",
    "            print(\"x = %s, y = %s, z = %s\" %(xi, yi, f(xi, yi)))\n",
    "            print(gradient(f, xi, yi))\n",
    "        xj = xi\n",
    "        yj = yi\n",
    "        xi = xi - gradient(f, xi, yi, h = 1e-9)[0] * d\n",
    "        yi = yi - gradient(f, xi, yi, h = 1e-9)[1] * d\n",
    "            \n",
    "    return (xi, yi)"
   ]
  },
  {
   "cell_type": "markdown",
   "metadata": {},
   "source": [
    "#### Testing the gradient function on the function $f(\\overrightarrow{x}) = 0.5\\cdot x^2 + 0.5\\cdot y^2$:"
   ]
  },
  {
   "cell_type": "code",
   "execution_count": 324,
   "metadata": {
    "collapsed": true
   },
   "outputs": [],
   "source": [
    "def func_3(x, y):\n",
    "    return 0.5*(x**2) + 0.5*(y**2)"
   ]
  },
  {
   "cell_type": "code",
   "execution_count": 325,
   "metadata": {
    "scrolled": true
   },
   "outputs": [
    {
     "name": "stdout",
     "output_type": "stream",
     "text": [
      "x cordinate = 0.0, y cordinate = 0.0\n",
      "x cordinate = 1.0000000005838672, y cordinate = 1.0000000005838672\n",
      "x cordinate = 1.9999999967268423, y cordinate = 1.9999999967268423\n",
      "x cordinate = 2.9999999906493713, y cordinate = 2.9999999906493713\n",
      "x cordinate = 3.9999999934536845, y cordinate = 3.9999999934536845\n",
      "x cordinate = 5.00000002290335, y cordinate = 5.00000002290335\n",
      "x cordinate = 5.999999999062311, y cordinate = 5.999999999062311\n",
      "x cordinate = 7.000000046275545, y cordinate = 7.000000046275545\n",
      "x cordinate = 8.000000022434506, y cordinate = 8.000000022434506\n",
      "x cordinate = 8.99999996306633, y cordinate = 8.99999996306633\n"
     ]
    }
   ],
   "source": [
    "#printing the cordinates x, and y of the gradient at <i, i>\n",
    "for i in range(0, 10):\n",
    "    a = gradient(func_3, i, i, 1e-7)\n",
    "    print(\"x cordinate = \" + str(a[0]) + \", y cordinate = \" + str(a[1]))"
   ]
  },
  {
   "cell_type": "code",
   "execution_count": 326,
   "metadata": {},
   "outputs": [
    {
     "name": "stdout",
     "output_type": "stream",
     "text": [
      "x cordinate = 0.0, y cordinate = 0.0\n",
      "x cordinate = 1.0000000005838672, y cordinate = 1.0000000005838672\n",
      "x cordinate = 1.9999999967268423, y cordinate = 1.9999999967268423\n",
      "x cordinate = 2.9999999906493713, y cordinate = 2.9999999906493713\n",
      "x cordinate = 3.9999999934536845, y cordinate = 3.9999999934536845\n",
      "x cordinate = 5.00000002290335, y cordinate = 5.00000002290335\n",
      "x cordinate = 5.999999999062311, y cordinate = 5.999999999062311\n",
      "x cordinate = 7.000000046275545, y cordinate = 7.000000046275545\n",
      "x cordinate = 8.000000022434506, y cordinate = 8.000000022434506\n",
      "x cordinate = 8.99999996306633, y cordinate = 8.99999996306633\n"
     ]
    }
   ],
   "source": [
    "#printing the cordinates x, y of the minimum at <i, i>\n",
    "for i in range(0, 10):\n",
    "    a = gradient(func_3, i, i, 1e-7)\n",
    "    print(\"x cordinate = \" + str(a[0]) + \", y cordinate = \" + str(a[1]))"
   ]
  },
  {
   "cell_type": "markdown",
   "metadata": {},
   "source": [
    "$\\rightarrow$ As we can see from the results above, the higher dimensional gradient descent function generates minimum values which are approximately close to the actual minimum of $f(x)$, which is at $<0, 0>$."
   ]
  },
  {
   "cell_type": "markdown",
   "metadata": {},
   "source": [
    "#### Testing the gradient function on the function $f(\\overrightarrow{x}) = \\displaystyle\\frac{1}{10}(x^2 + y^2) + \\frac{1}{2}x - y + \\frac{1}{10}(x\\cdot y) + 3$:\n",
    "$\\rightarrow$ This one has a minimum near $<-\\displaystyle\\frac{20}{3}, \\frac{25}{3}>.$"
   ]
  },
  {
   "cell_type": "code",
   "execution_count": 327,
   "metadata": {
    "collapsed": true
   },
   "outputs": [],
   "source": [
    "def func_4(x, y):\n",
    "    return 0.1*(x**2 + y**2) + 0.5*x - y + 0.1*x*y + 3"
   ]
  },
  {
   "cell_type": "code",
   "execution_count": 328,
   "metadata": {},
   "outputs": [
    {
     "name": "stdout",
     "output_type": "stream",
     "text": [
      "x cordinate = 0.49999999918171056, y cordinate = -1.0000000005838672\n",
      "x cordinate = 0.7999999995789153, y cordinate = -0.6999999979662164\n",
      "x cordinate = 1.09999999997612, y cordinate = -0.3999999975690116\n",
      "x cordinate = 1.3999999959324327, y cordinate = -0.0999999993922529\n",
      "x cordinate = 1.6999999985500835, y cordinate = 0.1999999943436137\n",
      "x cordinate = 2.0000000144904106, y cordinate = 0.4999999969612645\n",
      "x cordinate = 2.300000003785385, y cordinate = 0.7999999951380232\n",
      "x cordinate = 2.6000000197257123, y cordinate = 1.1000000021965661\n",
      "x cordinate = 2.900000026784255, y cordinate = 1.400000009255109\n",
      "x cordinate = 3.1999999983156613, y cordinate = 1.6999999807865152\n"
     ]
    }
   ],
   "source": [
    "#printing the cordinates x, and y of the gradient at <i, i>\n",
    "for i in range(0, 10):\n",
    "    a = gradient(func_4, i, i, 1e-7)\n",
    "    print(\"x cordinate = \" + str(a[0]) + \", y cordinate = \" + str(a[1]))"
   ]
  },
  {
   "cell_type": "code",
   "execution_count": 329,
   "metadata": {},
   "outputs": [
    {
     "name": "stdout",
     "output_type": "stream",
     "text": [
      "x cordinate = -6.659629822459152, y cordinate = 8.326332248819739\n",
      "x cordinate = -6.6596370439335715, y cordinate = 8.326338760804134\n",
      "x cordinate = -6.6595727004318235, y cordinate = 8.326275772827188\n",
      "x cordinate = -6.659579899701782, y cordinate = 8.326282184891511\n",
      "x cordinate = -6.659587554163181, y cordinate = 8.32628972938332\n",
      "x cordinate = -6.659594120606016, y cordinate = 8.32629694080822\n",
      "x cordinate = -6.659601131138061, y cordinate = 8.326303441690385\n",
      "x cordinate = -6.659608496941473, y cordinate = 8.32631081964874\n",
      "x cordinate = -6.659615873847116, y cordinate = 8.326317853437956\n",
      "x cordinate = -6.659622973197003, y cordinate = 8.326325286907462\n",
      "x cordinate = -6.659629850502284, y cordinate = 8.32633143251826\n",
      "x cordinate = -6.659637205203467, y cordinate = 8.326339154645751\n",
      "x cordinate = -6.659644282348893, y cordinate = 8.326346443786264\n",
      "x cordinate = -6.6596519257080615, y cordinate = 8.326353188917494\n",
      "x cordinate = -6.6595884370780425, y cordinate = 8.326290145429397\n"
     ]
    }
   ],
   "source": [
    "#printing the cordinates x, y of the minimum at <i, i>\n",
    "for i in range(-5, 10):\n",
    "    a = gradient_2D(func_4, i, i, 1e-3)\n",
    "    print(\"x cordinate = \" + str(a[0]) + \", y cordinate = \" + str(a[1]))"
   ]
  },
  {
   "cell_type": "code",
   "execution_count": 330,
   "metadata": {},
   "outputs": [
    {
     "name": "stdout",
     "output_type": "stream",
     "text": [
      "minimum of the function: (-6.666653740161621, 8.333320774956405)\n",
      "Gradient at the point: (1.000000000139778, 0.0)\n"
     ]
    }
   ],
   "source": [
    "print(\"minimum of the function: \" + str(gradient_2D(func_4, 0, 5, 1e-6)))\n",
    "print(\"Gradient at the point: \" + str(gradient(func_4, 0, 5, 1e-6)))"
   ]
  },
  {
   "cell_type": "markdown",
   "metadata": {},
   "source": [
    "$\\rightarrow$ The minimum values of the vector function func_4 calculated from the higher dimensional gradient descent function is approximately cloes to the actual minimum, which is at $<0, 5>$"
   ]
  },
  {
   "cell_type": "markdown",
   "metadata": {},
   "source": [
    "## Exercise 4 - Chi-Square Optimization\n",
    "The $χ2$ function measures how good a fit is. To define it, we'll need:\n",
    "<br>\n",
    "* The actual data points: $(x_i, y_i)$\n",
    "* A function which we're trying to use to fit those points: $f(x; a, b)$\n",
    "<br>\n",
    "<br>\n",
    "$\\rightarrow$ The function has multiple parameters, a and b (and c and so on), which can be varied. For a line, the parameters are m (the slope) and b (the intercept)."
   ]
  },
  {
   "cell_type": "code",
   "execution_count": 235,
   "metadata": {
    "collapsed": true
   },
   "outputs": [],
   "source": [
    "# A simple line function\n",
    "def line(x, m, b):\n",
    "    return b + m*x\n",
    "\n",
    "# Produces randomly generated line data, \n",
    "# with m = -0.2 and b = 1, and some scatter.\n",
    "# Call as x,y = linedata()\n",
    "def linedata():\n",
    "\tx = np.linspace(0, 10, 20)\n",
    "\tnp.random.seed(100)\n",
    "\ty = line(x, -0.2, 1)\n",
    "\ty = y + 0.2 * np.random.normal(size=len(x))\n",
    "\n",
    "\treturn (x, y)\n",
    "\n",
    "# A simple exponential decay\n",
    "def expdecay(x, A, B):\n",
    "    return A * np.exp(-B * x)\n",
    "\n",
    "# Produces randomly generated exponential decay data,\n",
    "# with A = 2.1 and B = 1.4, and some noise.\n",
    "# Call as x,y = expdata()\n",
    "def expdata():\n",
    "\tx = np.linspace(0, 4, 50)\n",
    "\tnp.random.seed(100)\n",
    "\ty = expdecay(x, 2.1, 1.4)\n",
    "\ty_noise = 0.2 * np.random.normal(size=len(x))\n",
    "\ty = y + y_noise\n",
    "\n",
    "\treturn (x, y)"
   ]
  },
  {
   "cell_type": "code",
   "execution_count": 312,
   "metadata": {
    "collapsed": true
   },
   "outputs": [],
   "source": [
    "def chi_optimizer(f, x, y):\n",
    "    #minimizing the error of a, b since x, y are fixed\n",
    "    def chi_square(a, b):\n",
    "        diff_sum = 0\n",
    "        for i in range(0, len(x)):\n",
    "            err = y[i] - f(x[i], a, b)\n",
    "            diff_sum = diff_sum + (err)**2\n",
    "            \n",
    "        return diff_sum\n",
    "    \n",
    "    return chi_square"
   ]
  },
  {
   "cell_type": "markdown",
   "metadata": {},
   "source": [
    "#### Plot the data, along with your best-fit curves for the line function:"
   ]
  },
  {
   "cell_type": "code",
   "execution_count": 331,
   "metadata": {
    "collapsed": true
   },
   "outputs": [],
   "source": [
    "#a modified version of the higer dimensional gradient descent\n",
    "#reduced h and epsilon values, smaller descrease in step size\n",
    "def grad_h(f, x0, y0, epsilon=1e-3, trace = False):\n",
    "    xi = x0\n",
    "    xj = x0\n",
    "    yi = y0\n",
    "    yj = y0\n",
    "    #some small value representing the step size\n",
    "    d = 0.1\n",
    "    xi = xi - gradient(f, xi, yi, h = 1e-4)[0] * d\n",
    "    yi = yi - gradient(f, xi, yi, h = 1e-4)[1] * d\n",
    "    \n",
    "    while np.sqrt(gradient(f, xi, yi, h = 1e-4)[0]**2 + gradient(f, xi, yi, h = 1e-4)[1]**2) > epsilon:\n",
    "        if f(xi, yi) >= f(xj, yj):\n",
    "            d = d/2\n",
    "            \n",
    "        if(trace):\n",
    "            print(\"x = %s, y = %s, z = %s\" %(xi, yi, f(xi, yi)))\n",
    "            print(gradient(f, xi, yi))\n",
    "        xj = xi\n",
    "        yj = yi\n",
    "        xi = xi - gradient(f, xi, yi, h = 1e-4)[0] * d\n",
    "        yi = yi - gradient(f, xi, yi, h = 1e-4)[1] * d\n",
    "            \n",
    "    return (xi, yi)"
   ]
  },
  {
   "cell_type": "code",
   "execution_count": 332,
   "metadata": {},
   "outputs": [
    {
     "data": {
      "image/png": "[encoded data removed]",
      "text/plain": [
       "<matplotlib.figure.Figure at 0x1b2c8c32390>"
      ]
     },
     "metadata": {},
     "output_type": "display_data"
    }
   ],
   "source": [
    "x = linedata()[0]\n",
    "y = linedata()[1]\n",
    "plt.plot(x, y, 'ro', label = 'random data')\n",
    "#chiSquare returning a chi_square function\n",
    "chiSquare = chi_optimizer(line, x, y)\n",
    "a = grad_h(chiSquare, 5, 5)[0]\n",
    "b = grad_h(chiSquare, 5, 5)[1]\n",
    "\n",
    "line_x = np.linspace(0, 10, 20)\n",
    "line_y = line(line_x, a, b)\n",
    "\n",
    "plt.plot(line_x, line_y, label = 'Best-fit line')\n",
    "plt.legend(loc = 'upper right', bbox_to_anchor = (1.35, 1.03))\n",
    "\n",
    "plt.show()"
   ]
  },
  {
   "cell_type": "markdown",
   "metadata": {},
   "source": [
    "#### Plot the data, along with your best-fit curves for the exponential decay:"
   ]
  },
  {
   "cell_type": "code",
   "execution_count": 333,
   "metadata": {},
   "outputs": [
    {
     "data": {
      "image/png": "[encoded data removed]",
      "text/plain": [
       "<matplotlib.figure.Figure at 0x1b2c7a1ce80>"
      ]
     },
     "metadata": {},
     "output_type": "display_data"
    }
   ],
   "source": [
    "x, y = expdata()\n",
    "#chiSquare returning a chi_square function\n",
    "chiSquare = chi_optimizer(expdecay, x, y)\n",
    "a, b = grad_h(chiSquare, 8, 8)\n",
    "\n",
    "exp_x = np.linspace(0, 4, 50)\n",
    "exp_y = expdecay(exp_x, a, b)\n",
    "\n",
    "plt.plot(x, y, 'ro', label = 'random data')\n",
    "plt.plot(exp_x, exp_y, label = 'best-fit line')\n",
    "\n",
    "plt.show()"
   ]
  },
  {
   "cell_type": "code",
   "execution_count": null,
   "metadata": {
    "collapsed": true
   },
   "outputs": [],
   "source": []
  }
 ],
 "metadata": {
  "kernelspec": {
   "display_name": "Python 3",
   "language": "python",
   "name": "python3"
  },
  "language_info": {
   "codemirror_mode": {
    "name": "ipython",
    "version": 3
   },
   "file_extension": ".py",
   "mimetype": "text/x-python",
   "name": "python",
   "nbconvert_exporter": "python",
   "pygments_lexer": "ipython3",
   "version": "3.6.1"
  }
 },
 "nbformat": 4,
 "nbformat_minor": 2
}
